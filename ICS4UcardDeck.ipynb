{
 "cells": [
  {
   "cell_type": "code",
   "execution_count": 11,
   "id": "fb05b662-8a04-4e38-af27-5934f5e089df",
   "metadata": {},
   "outputs": [
    {
     "name": "stdout",
     "output_type": "stream",
     "text": [
      "Initial Deck:\n",
      "2D  2H  2S  2C\n",
      "3D  3H  3S  3C\n",
      "4D  4H  4S  4C\n",
      "5D  5H  5S  5C\n",
      "6D  6H  6S  6C\n",
      "7D  7H  7S  7C\n",
      "8D  8H  8S  8C\n",
      "9D  9H  9S  9C\n",
      "1D  1H  1S  1C\n",
      "JD  JH  JS  JC\n",
      "QD  QH  QS  QC\n",
      "KD  KH  KS  KC\n",
      "AD  AH  AS  AC\n",
      "\n"
     ]
    },
    {
     "name": "stdin",
     "output_type": "stream",
     "text": [
      "Enter the card to remove (e.g., 2D, JC) or 'exit' to quit:  2D\n"
     ]
    },
    {
     "name": "stdout",
     "output_type": "stream",
     "text": [
      "\n",
      "Updated Deck:\n",
      "--  2H  2S  2C\n",
      "3D  3H  3S  3C\n",
      "4D  4H  4S  4C\n",
      "5D  5H  5S  5C\n",
      "6D  6H  6S  6C\n",
      "7D  7H  7S  7C\n",
      "8D  8H  8S  8C\n",
      "9D  9H  9S  9C\n",
      "1D  1H  1S  1C\n",
      "JD  JH  JS  JC\n",
      "QD  QH  QS  QC\n",
      "KD  KH  KS  KC\n",
      "AD  AH  AS  AC\n",
      "\n"
     ]
    },
    {
     "name": "stdin",
     "output_type": "stream",
     "text": [
      "Enter the card to remove (e.g., 2D, JC) or 'exit' to quit:  1H\n"
     ]
    },
    {
     "name": "stdout",
     "output_type": "stream",
     "text": [
      "\n",
      "Updated Deck:\n",
      "--  2H  2S  2C\n",
      "3D  3H  3S  3C\n",
      "4D  4H  4S  4C\n",
      "5D  5H  5S  5C\n",
      "6D  6H  6S  6C\n",
      "7D  7H  7S  7C\n",
      "8D  8H  8S  8C\n",
      "9D  9H  9S  9C\n",
      "1D  --  1S  1C\n",
      "JD  JH  JS  JC\n",
      "QD  QH  QS  QC\n",
      "KD  KH  KS  KC\n",
      "AD  AH  AS  AC\n",
      "\n"
     ]
    },
    {
     "name": "stdin",
     "output_type": "stream",
     "text": [
      "Enter the card to remove (e.g., 2D, JC) or 'exit' to quit:  AC\n"
     ]
    },
    {
     "name": "stdout",
     "output_type": "stream",
     "text": [
      "\n",
      "Updated Deck:\n",
      "--  2H  2S  2C\n",
      "3D  3H  3S  3C\n",
      "4D  4H  4S  4C\n",
      "5D  5H  5S  5C\n",
      "6D  6H  6S  6C\n",
      "7D  7H  7S  7C\n",
      "8D  8H  8S  8C\n",
      "9D  9H  9S  9C\n",
      "1D  --  1S  1C\n",
      "JD  JH  JS  JC\n",
      "QD  QH  QS  QC\n",
      "KD  KH  KS  KC\n",
      "AD  AH  AS  --\n",
      "\n"
     ]
    },
    {
     "name": "stdin",
     "output_type": "stream",
     "text": [
      "Enter the card to remove (e.g., 2D, JC) or 'exit' to quit:  EXIT\n"
     ]
    }
   ],
   "source": [
    "with open(\"card_data.txt\", \"r\") as file: # Open the input file and read the data\n",
    "    suits = file.readline().strip().split(\",\")   # Read first line with the variable \"suits\"\n",
    "    values = file.readline().strip().split(\",\")  # Read second line with the variable \"values\"\n",
    "\n",
    "# Create a 2D list for the deck\n",
    "deck = [[f\"{value[0]}{suit[0]}\" for suit in suits] for value in values]\n",
    "\n",
    "# Function to display the deck in a structured format\n",
    "def print_deck():\n",
    "    for i in deck:\n",
    "        print(\"  \".join(i))\n",
    "    print()\n",
    "\n",
    "# Print the initial deck\n",
    "print(\"Initial Deck:\")\n",
    "print_deck()\n",
    "\n",
    "# Interactive loop to remove cards\n",
    "while True:\n",
    "    card_to_remove = input(\"Enter the card to remove (e.g., 5H, AC) or 'exit' to quit: \").strip().upper()\n",
    "    \n",
    "    if card_to_remove == \"EXIT\":\n",
    "        break  # Exit the program\n",
    "    \n",
    "    found = False\n",
    "    for i in range(len(deck)):\n",
    "        for j in range(len(deck[i])):\n",
    "            if deck[i][j] == card_to_remove:\n",
    "                deck[i][j] = \"--\"  # Once the card has been removed, \"--\" will replace the empty cell\n",
    "                found = True\n",
    "    \n",
    "    if found:\n",
    "        print(\"\\nUpdated Deck:\")\n",
    "        print_deck()\n",
    "    else:\n",
    "        print(\"Card not found. Please try again.\")\n"
   ]
  },
  {
   "cell_type": "code",
   "execution_count": null,
   "id": "2271ae66-c54a-46ef-a21e-de58cefe241c",
   "metadata": {},
   "outputs": [],
   "source": []
  }
 ],
 "metadata": {
  "kernelspec": {
   "display_name": "Python 3 (ipykernel)",
   "language": "python",
   "name": "python3"
  },
  "language_info": {
   "codemirror_mode": {
    "name": "ipython",
    "version": 3
   },
   "file_extension": ".py",
   "mimetype": "text/x-python",
   "name": "python",
   "nbconvert_exporter": "python",
   "pygments_lexer": "ipython3",
   "version": "3.12.4"
  }
 },
 "nbformat": 4,
 "nbformat_minor": 5
}
