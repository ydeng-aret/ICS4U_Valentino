{
 "cells": [
  {
   "cell_type": "code",
   "execution_count": 25,
   "id": "ce9bfa2e-a778-434d-aa51-eb2e438060ad",
   "metadata": {},
   "outputs": [
    {
     "data": {
      "text/plain": [
       "'Atomic_habits, James Clear, 2018, Valentino, 04/15/2025'"
      ]
     },
     "execution_count": 25,
     "metadata": {},
     "output_type": "execute_result"
    }
   ],
   "source": [
    "#Tuesday, March 15th, 2025\n",
    "\n",
    "\n",
    "\"\"\"Create a class Book with attributes: title, author, and year. Add a method display_info() to print the\n",
    "book details.\n",
    "Now create a subclass BorrowedBook that inherits from Book and has additional attributes:\n",
    "borrower_name, due_date.\n",
    "Add a method display_borrowed_info() that prints both book and borrower details.Create a class Book with attributes: title, author, and year. Add a method display_info() to print the\n",
    "book details.\"\"\"\n",
    "\n",
    "#Question 1: Library Book System\n",
    "class Book:\n",
    "    def __init__(self, title, author, year):\n",
    "        self.title = title\n",
    "        self.author = author\n",
    "        self.year = year\n",
    "\n",
    "    def display_info(self):\n",
    "        return f\"{self.title}, {self.author}, {self.year}\"\n",
    "\n",
    "class BorrowedBook(Book):\n",
    "    def __init__(self, title, author, year, borrower_name, due_date):\n",
    "        super(). __init__(title, author, year)\n",
    "        self.borrower_name = borrower_name\n",
    "        self.due_date = due_date\n",
    "\n",
    "    def display_borrowed_info(self):\n",
    "        return f\"{self.title}, {self.author}, {self.year}, {self.borrower_name}, {self.due_date}\" \n",
    "\n",
    "b1 = BorrowedBook(\"Atomic_habits\", \"James Clear\", 2018, \"Valentino\", \"04/15/2025\")\n",
    "\n",
    "BorrowedBook.display_borrowed_info(b1)\n"
   ]
  },
  {
   "cell_type": "code",
   "execution_count": 59,
   "id": "d5889320-4a6b-4a2b-94cb-9d73ff6015df",
   "metadata": {},
   "outputs": [
    {
     "name": "stdout",
     "output_type": "stream",
     "text": [
      "Iphone 6s, Apple, Wifi, 800\n"
     ]
    },
    {
     "data": {
      "text/plain": [
       "'The total amount of steps tracked is 800'"
      ]
     },
     "execution_count": 59,
     "metadata": {},
     "output_type": "execute_result"
    }
   ],
   "source": [
    "#Question 2: Smart Device Tracker (10 points)\n",
    "#Create three classes:\n",
    "# Device: Has attributes device_name, brand.\n",
    "# SmartDevice: Inherits from Device, adds attribute connectivity (e.g., WiFi/Bluetooth).\n",
    "# FitnessTracker: Inherits from SmartDevice, adds steps_tracked and a method track_steps() to simulate step tracking.\n",
    "#Task:\n",
    "#Create an object of FitnessTracker and call methods to show all inhererited and own properties. \n",
    "#Ensure constructors are used in each level and properly chained.\n",
    "\n",
    "class Device:\n",
    "    def __init__(self, device_name, brand):\n",
    "        self.device_name = device_name\n",
    "        self.brand = brand\n",
    "    def show(self):\n",
    "        return f\"{self.device_name}, {self.brand}\"\n",
    "\n",
    "class SmartDevice(Device):\n",
    "    def __init__(self, device_name, brand, connectivity):\n",
    "        super(). __init__(device_name, brand)\n",
    "        self.connectivity = connectivity\n",
    "    def show(self):\n",
    "        return f\"{self.device_name}, {self.brand}, {self.connectivity}\"\n",
    "\n",
    "class FitnessTracker(SmartDevice):\n",
    "    def __init__(self, device_name, brand, connectivity, steps_tracked):\n",
    "        super(). __init__(device_name, brand, connectivity)\n",
    "        self.steps_tracked = steps_tracked\n",
    "    def show(self):\n",
    "        return f\"{self.device_name}, {self.brand}, {self.connectivity}, {self.steps_tracked}\"\n",
    "        \n",
    "    def track_steps(self):\n",
    "        return f\"The total amount of steps tracked is {self.steps_tracked}\"\n",
    "\n",
    "obj1 = FitnessTracker(\"Iphone 6s\", \"Apple\", \"Wifi\", 800)\n",
    "print(obj1.show())\n",
    "FitnessTracker.track_steps(obj1)\n",
    "\n",
    "\n",
    "\n"
   ]
  },
  {
   "cell_type": "code",
   "execution_count": 104,
   "id": "7328d278-de5b-455b-973c-f31db830c62a",
   "metadata": {},
   "outputs": [
    {
     "name": "stdout",
     "output_type": "stream",
     "text": [
      "The name is Valentino\n",
      "The subject is Math\n",
      "The sport is soccer\n",
      "The amount of hours trained are 6\n"
     ]
    }
   ],
   "source": [
    "#Question 3: School Management (11 points)\n",
    "# Create class Teacher with attributes: name, subject.\n",
    "# Create class Athlete with attributes: sport, training_hours.\n",
    "# Create a class SportsTeacher that inherits from both and adds method display_profile() to show complete details.\n",
    "#Bonus : What happens if both parent classes have a method introduce()?\n",
    "\n",
    "class Teacher:\n",
    "    def __init__(self, name, subject):\n",
    "        self.name = name\n",
    "        self.subject = subject\n",
    "    def show1(self):\n",
    "        return f\"{self.name}, {self.subject}\"\n",
    "\n",
    "class Athlete:\n",
    "    def __init__(self, sport, training_hours):\n",
    "        self.sport = sport\n",
    "        self.training_hours = training_hours\n",
    "    def show2(self):\n",
    "        return f\"{self.sport}, {self.training_hours}\"\n",
    "\n",
    "class SportsTeacher(Teacher, Athlete):\n",
    "    def __init__(self, name, subject, sport, training_hours):\n",
    "        Teacher.__init__(self, name, subject)\n",
    "        Athlete.__init__(self, sport, training_hours)\n",
    "\n",
    "    def display_profile(self):\n",
    "        print(f\"The name is {self.name}\")\n",
    "        print(f\"The subject is {self.subject}\")\n",
    "        print(f\"The sport is {self.sport}\")\n",
    "        print(f\"The amount of hours trained are {self.training_hours}\")\n",
    "        \n",
    "  \n",
    "\n",
    "t1 = SportsTeacher(\"Valentino\", \"Math\", \"soccer\", 6)\n",
    "t1.display_profile()"
   ]
  },
  {
   "cell_type": "code",
   "execution_count": 71,
   "id": "766cf828-0e79-4fda-a746-da560d5a7675",
   "metadata": {},
   "outputs": [
    {
     "ename": "TypeError",
     "evalue": "User.__init__() takes 3 positional arguments but 4 were given",
     "output_type": "error",
     "traceback": [
      "\u001b[0;31m---------------------------------------------------------------------------\u001b[0m",
      "\u001b[0;31mTypeError\u001b[0m                                 Traceback (most recent call last)",
      "Cell \u001b[0;32mIn[71], line 36\u001b[0m\n\u001b[1;32m     32\u001b[0m         \u001b[38;5;28;01mdef\u001b[39;00m \u001b[38;5;21madd_product\u001b[39m(\u001b[38;5;28mself\u001b[39m, product):\n\u001b[1;32m     33\u001b[0m             \u001b[38;5;28mself\u001b[39m\u001b[38;5;241m.\u001b[39mproduct \u001b[38;5;241m=\u001b[39m product\n\u001b[0;32m---> 36\u001b[0m seller1 \u001b[38;5;241m=\u001b[39m User(\u001b[38;5;124m\"\u001b[39m\u001b[38;5;124mYunfai\u001b[39m\u001b[38;5;124m\"\u001b[39m, \u001b[38;5;124m\"\u001b[39m\u001b[38;5;124myu@gmail.com\u001b[39m\u001b[38;5;124m\"\u001b[39m, \u001b[38;5;241m2\u001b[39m)\n\u001b[1;32m     37\u001b[0m buyer1 \u001b[38;5;241m=\u001b[39m User()\n\u001b[1;32m     40\u001b[0m seller1\u001b[38;5;241m.\u001b[39mdisplay_user()\n",
      "\u001b[0;31mTypeError\u001b[0m: User.__init__() takes 3 positional arguments but 4 were given"
     ]
    }
   ],
   "source": [
    "#Question 4: E-commerce Platform (12 points)\n",
    "#Create a base class User with attributes username, email, and a method display_user().\n",
    "#Now create two subclasses:\n",
    "# Buyer: Adds cart_items and a method add_to_cart(item).\n",
    "# Seller: Adds products_listed and a method add_product(product).\n",
    "#Task: Create one object each of Buyer and Seller, demonstrate their methods, and show that they share the base class functionality.\n",
    "\n",
    "class User:\n",
    "    def __init__(self, username, email):\n",
    "        self.username = username\n",
    "        self.email = email\n",
    "        self.buy = self.Buyer()\n",
    "\n",
    "    def display_user(self):\n",
    "        return f\"{self.username}, {self.email}\"\n",
    "        return f\"{self.buy.show()}\"\n",
    "\n",
    "    def display_user2(self):\n",
    "        return f\"{self.username}, {self.email}\"\n",
    "\n",
    "    class Buyer:\n",
    "        def __init__(self, cart_items):\n",
    "            self.cart_items = cart_items\n",
    "        \n",
    "        def add_to_cart(self, item):\n",
    "            self.item = item\n",
    "\n",
    "    class Seller:\n",
    "        def __init__(self, products_listed):\n",
    "            self.products_listed = products_listed\n",
    "\n",
    "        def add_product(self, product):\n",
    "            self.product = product\n",
    "\n",
    "    \n",
    "seller1 = User(\"Yunfai\", \"yu@gmail.com\", 2)\n",
    "buyer1 = User()\n",
    "        \n",
    "\n",
    "seller1.display_user()"
   ]
  },
  {
   "cell_type": "code",
   "execution_count": 106,
   "id": "e2017eea-a8a8-470a-85a1-160f34888cc6",
   "metadata": {},
   "outputs": [],
   "source": [
    "#Question 4: E-commerce Platform (12 points)\n",
    "#Create a base class User with attributes username, email, and a method display_user().\n",
    "#Now create two subclasses:\n",
    "# Buyer: Adds cart_items and a method add_to_cart(item).\n",
    "# Seller: Adds products_listed and a method add_product(product).\n",
    "#Task: Create one object each of Buyer and Seller, demonstrate their methods, and show that they share the base class functionality."
   ]
  },
  {
   "cell_type": "code",
   "execution_count": 124,
   "id": "58da402f-72aa-47d6-aa9c-568482afa699",
   "metadata": {},
   "outputs": [
    {
     "ename": "SyntaxError",
     "evalue": "unterminated string literal (detected at line 34) (3408254053.py, line 34)",
     "output_type": "error",
     "traceback": [
      "\u001b[0;36m  Cell \u001b[0;32mIn[124], line 34\u001b[0;36m\u001b[0m\n\u001b[0;31m    buyer = Buyer(\"Valentino, \"yunfai\")\u001b[0m\n\u001b[0m                                     ^\u001b[0m\n\u001b[0;31mSyntaxError\u001b[0m\u001b[0;31m:\u001b[0m unterminated string literal (detected at line 34)\n"
     ]
    }
   ],
   "source": [
    "# Base class User\n",
    "class User:\n",
    "    def __init__(self, username, email):\n",
    "        self.username = username\n",
    "        self.email = email\n",
    "\n",
    "    def display_user(self):\n",
    "        print(f\"Username: {self.username}\")\n",
    "        print(f\"Email: {self.email}\")\n",
    "\n",
    "# Subclass Buyer\n",
    "class Buyer(User):\n",
    "    def __init__(self, username, email):\n",
    "        super().__init__(username, email)\n",
    "        self.cart_items = []\n",
    "\n",
    "    def add_to_cart(self, item):\n",
    "        self.cart_items.append(item)\n",
    "        print(f\"Added '{item}' to cart.\")\n",
    "\n",
    "# Subclass Seller\n",
    "class Seller(User):\n",
    "    def __init__(self, username, email):\n",
    "        super().__init__(username, email)\n",
    "        self.products_listed = []\n",
    "\n",
    "    def add_product(self, product):\n",
    "        self.products_listed.append(product)\n",
    "        print(f\"Added product '{product}' to listings.\")\n",
    "\n",
    "# Demonstration\n",
    "\n",
    "# Create Buyer object\n",
    "buyer = Buyer(\"Valentino, \"yunfai\")\n",
    "buyer.display_user()\n",
    "buyer.add_to_cart(\"Chess board\")\n",
    "print(f\"Cart Items: {buyer.cart_items}\\n\")\n",
    "\n",
    "# Create Seller object\n",
    "seller = Seller(\"Argy\", \"hey@gmair.com\")\n",
    "seller.display_user()\n",
    "seller.add_product(\"Glass cup\")\n",
    "print(f\"Products Listed: {seller.products_listed}\")"
   ]
  },
  {
   "cell_type": "code",
   "execution_count": 126,
   "id": "b7b6f394-e43f-46ed-8fc8-9855cc85388e",
   "metadata": {},
   "outputs": [
    {
     "name": "stdout",
     "output_type": "stream",
     "text": [
      "Username: jane_doe\n",
      "Email: jane@example.com\n",
      "Added 'Laptop' to cart.\n",
      "Cart Items: ['Laptop']\n",
      "\n",
      "Username: john_smith\n",
      "Email: john@example.com\n",
      "Added product 'Smartphone' to listings.\n",
      "Products Listed: ['Smartphone']\n"
     ]
    }
   ],
   "source": [
    "# Base class User\n",
    "class User:\n",
    "    def __init__(self, username, email):\n",
    "        self.username = username\n",
    "        self.email = email\n",
    "\n",
    "    def display_user(self):\n",
    "        print(f\"Username: {self.username}\")\n",
    "        print(f\"Email: {self.email}\")\n",
    "\n",
    "# Subclass Buyer\n",
    "class Buyer(User):\n",
    "    def __init__(self, username, email):\n",
    "        super().__init__(username, email)\n",
    "        self.cart_items = []\n",
    "\n",
    "    def add_to_cart(self, item):\n",
    "        self.cart_items.append(item)\n",
    "        print(f\"Added '{item}' to cart.\")\n",
    "\n",
    "# Subclass Seller\n",
    "class Seller(User):\n",
    "    def __init__(self, username, email):\n",
    "        super().__init__(username, email)\n",
    "        self.products_listed = []\n",
    "\n",
    "    def add_product(self, product):\n",
    "        self.products_listed.append(product)\n",
    "        print(f\"Added product '{product}' to listings.\")\n",
    "\n",
    "# Demonstration\n",
    "\n",
    "# Create Buyer object\n",
    "buyer = Buyer(\"jane_doe\", \"yunfai@gmair.com\")\n",
    "buyer.display_user()\n",
    "buyer.add_to_cart(\"Laptop\")\n",
    "print(f\"Cart Items: {buyer.cart_items}\\n\")\n",
    "\n",
    "# Create Seller object\n",
    "seller = Seller(\"john_smith\", \"arg@example.com\")\n",
    "seller.display_user()\n",
    "seller.add_product(\"Smartphone\")\n",
    "print(f\"Products Listed: {seller.products_listed}\")\n"
   ]
  },
  {
   "cell_type": "code",
   "execution_count": null,
   "id": "838744d2-8e12-4bcd-87c0-38041a285d23",
   "metadata": {},
   "outputs": [],
   "source": []
  }
 ],
 "metadata": {
  "kernelspec": {
   "display_name": "Python 3 (ipykernel)",
   "language": "python",
   "name": "python3"
  },
  "language_info": {
   "codemirror_mode": {
    "name": "ipython",
    "version": 3
   },
   "file_extension": ".py",
   "mimetype": "text/x-python",
   "name": "python",
   "nbconvert_exporter": "python",
   "pygments_lexer": "ipython3",
   "version": "3.12.4"
  }
 },
 "nbformat": 4,
 "nbformat_minor": 5
}
