{
 "cells": [
  {
   "cell_type": "code",
   "execution_count": 1,
   "id": "a9272d51-98b1-4bd5-b8cd-145e5588071b",
   "metadata": {},
   "outputs": [
    {
     "data": {
      "text/plain": [
       "'Requirements of the Fraction Class\\nConstructor:\\n\\nAccepts 2 integer values representing the numerator and the denominator of the fraction\\nIt should set  / calculate the values of the field variables listed below\\nCode a check to see if a denominator of zero was entered and exit the program gracefully.\\nFields:\\n\\nnumerator and denominator of an improper fraction\\nMethods:\\n\\nReduce\\nReduces an improper fraction to lowest terms.  It doesn’t return a new fraction object, but modifies the calling object\\nEquals\\nAccepts a 2nd fraction object as a parameter and then compares it to the calling fraction object.  \\nReturn True or False\\nOverride the __str__ function \\nReturn a string in the form “n/d”\\nAdd, subtract, multiply, divide two fractions\\nAccepts a 2nd fraction object as a parameter and then performs the required math operation with the calling fraction\\nReturn a new fraction object representing the result of the math operation'"
      ]
     },
     "execution_count": 1,
     "metadata": {},
     "output_type": "execute_result"
    }
   ],
   "source": [
    "#April 9th,2025 \n",
    "\"\"\"Requirements of the Fraction Class\n",
    "Constructor:\n",
    "\n",
    "Accepts 2 integer values representing the numerator and the denominator of the fraction\n",
    "It should set  / calculate the values of the field variables listed below\n",
    "Code a check to see if a denominator of zero was entered and exit the program gracefully.\n",
    "Fields:\n",
    "\n",
    "numerator and denominator of an improper fraction\n",
    "Methods:\n",
    "\n",
    "Reduce\n",
    "Reduces an improper fraction to lowest terms.  It doesn’t return a new fraction object, but modifies the calling object\n",
    "Equals\n",
    "Accepts a 2nd fraction object as a parameter and then compares it to the calling fraction object.  \n",
    "Return True or False\n",
    "Override the __str__ function \n",
    "Return a string in the form “n/d”\n",
    "Add, subtract, multiply, divide two fractions\n",
    "Accepts a 2nd fraction object as a parameter and then performs the required math operation with the calling fraction\n",
    "Return a new fraction object representing the result of the math operation\"\"\""
   ]
  },
  {
   "cell_type": "code",
   "execution_count": null,
   "id": "236aaa9a-5074-4d5b-92e2-44e9b4595a43",
   "metadata": {},
   "outputs": [
    {
     "name": "stdout",
     "output_type": "stream",
     "text": [
      "Welcome to the Fraction Quiz! Enter 'q' to quit.\n",
      "\n",
      "What is 1/6 + 2/1?\n"
     ]
    },
    {
     "name": "stdin",
     "output_type": "stream",
     "text": [
      "Your answer (n/d):  13/6\n"
     ]
    },
    {
     "name": "stdout",
     "output_type": "stream",
     "text": [
      "Correct!\n",
      "\n",
      "What is 2/1 * 4/7?\n"
     ]
    },
    {
     "name": "stdin",
     "output_type": "stream",
     "text": [
      "Your answer (n/d):  8/7\n"
     ]
    },
    {
     "name": "stdout",
     "output_type": "stream",
     "text": [
      "Correct!\n",
      "\n",
      "What is 1/5 - 6/7?\n"
     ]
    },
    {
     "name": "stdin",
     "output_type": "stream",
     "text": [
      "Your answer (n/d):  -23/35\n"
     ]
    },
    {
     "name": "stdout",
     "output_type": "stream",
     "text": [
      "Correct!\n",
      "\n",
      "What is 5/1 + 4/5?\n"
     ]
    },
    {
     "name": "stdin",
     "output_type": "stream",
     "text": [
      "Your answer (n/d):  29/5\n"
     ]
    },
    {
     "name": "stdout",
     "output_type": "stream",
     "text": [
      "Correct!\n",
      "\n",
      "What is 5/6 * 10/1?\n"
     ]
    },
    {
     "name": "stdin",
     "output_type": "stream",
     "text": [
      "Your answer (n/d):  5/1\n"
     ]
    },
    {
     "name": "stdout",
     "output_type": "stream",
     "text": [
      "Incorrect. The correct answer is 25/3.\n",
      "\n",
      "What is 3/10 + 9/2?\n"
     ]
    },
    {
     "name": "stdin",
     "output_type": "stream",
     "text": [
      "Your answer (n/d):  24/5\n"
     ]
    },
    {
     "name": "stdout",
     "output_type": "stream",
     "text": [
      "Correct!\n",
      "\n",
      "What is 1/1 - 1/2?\n"
     ]
    },
    {
     "name": "stdin",
     "output_type": "stream",
     "text": [
      "Your answer (n/d):  1/2\n"
     ]
    },
    {
     "name": "stdout",
     "output_type": "stream",
     "text": [
      "Correct!\n",
      "\n",
      "What is 10/3 * 9/7?\n"
     ]
    },
    {
     "name": "stdin",
     "output_type": "stream",
     "text": [
      "Your answer (n/d):  90/21\n"
     ]
    },
    {
     "name": "stdout",
     "output_type": "stream",
     "text": [
      "Correct!\n",
      "\n",
      "What is 1/3 / 1/5?\n"
     ]
    },
    {
     "name": "stdin",
     "output_type": "stream",
     "text": [
      "Your answer (n/d):  5/3\n"
     ]
    },
    {
     "name": "stdout",
     "output_type": "stream",
     "text": [
      "Correct!\n",
      "\n",
      "What is 10/7 + 5/3?\n"
     ]
    },
    {
     "name": "stdin",
     "output_type": "stream",
     "text": [
      "Your answer (n/d):  65/21\n"
     ]
    },
    {
     "name": "stdout",
     "output_type": "stream",
     "text": [
      "Correct!\n",
      "\n",
      "What is 1/1 * 2/7?\n"
     ]
    }
   ],
   "source": [
    "import math\n",
    "import random\n",
    "\n",
    "class Fraction:\n",
    "    def __init__(self, numerator, denominator):\n",
    "        if denominator == 0:\n",
    "            raise ValueError(\"Denominator cannot be zero.\")\n",
    "        self.numerator = numerator\n",
    "        self.denominator = denominator\n",
    "        self.reduce()\n",
    "\n",
    "    def reduce(self):\n",
    "        gcd = math.gcd(self.numerator, self.denominator)\n",
    "        self.numerator //= gcd\n",
    "        self.denominator //= gcd\n",
    "        if self.denominator < 0:  # Normalize sign\n",
    "            self.numerator *= -1\n",
    "            self.denominator *= -1\n",
    "\n",
    "    def __str__(self):\n",
    "        return f\"{self.numerator}/{self.denominator}\"\n",
    "\n",
    "    def equals(self, other):\n",
    "        return self.numerator == other.numerator and self.denominator == other.denominator\n",
    "\n",
    "    def add(self, other):\n",
    "        num = self.numerator * other.denominator + other.numerator * self.denominator\n",
    "        den = self.denominator * other.denominator\n",
    "        return Fraction(num, den)\n",
    "\n",
    "    def subtract(self, other):\n",
    "        num = self.numerator * other.denominator - other.numerator * self.denominator\n",
    "        den = self.denominator * other.denominator\n",
    "        return Fraction(num, den)\n",
    "\n",
    "    def multiply(self, other):\n",
    "        num = self.numerator * other.numerator\n",
    "        den = self.denominator * other.denominator\n",
    "        return Fraction(num, den)\n",
    "\n",
    "    def divide(self, other):\n",
    "        if other.numerator == 0:\n",
    "            raise ValueError(\"Cannot divide by a fraction with numerator zero.\")\n",
    "        num = self.numerator * other.denominator\n",
    "        den = self.denominator * other.numerator\n",
    "        return Fraction(num, den)\n",
    "\n",
    "\n",
    "def quiz():\n",
    "    operations = ['+', '-', '*', '/']\n",
    "    print(\"Welcome to the Fraction Quiz! Enter 'q' to quit.\\n\")\n",
    "\n",
    "    while True:\n",
    "        op = random.choice(operations)\n",
    "        f1 = Fraction(random.randint(1, 10), random.randint(1, 10))\n",
    "        f2 = Fraction(random.randint(1, 10), random.randint(1, 10))\n",
    "\n",
    "        if op == '+':\n",
    "            correct = f1.add(f2)\n",
    "        elif op == '-':\n",
    "            correct = f1.subtract(f2)\n",
    "        elif op == '*':\n",
    "            correct = f1.multiply(f2)\n",
    "        else:\n",
    "            correct = f1.divide(f2)\n",
    "\n",
    "        print(f\"What is {f1} {op} {f2}?\")\n",
    "        user_input = input(\"Your answer (n/d): \")\n",
    "        if user_input.lower() == 'q':\n",
    "            print(\"Thanks for playing!\")\n",
    "            break\n",
    "\n",
    "        user_fraction = parse_fraction(user_input)\n",
    "        if user_fraction is None:\n",
    "            print(\"Invalid input format. Please enter in the form n/d.\")\n",
    "            continue\n",
    "\n",
    "        if user_fraction.equals(correct):\n",
    "            print(\"Correct!\\n\")\n",
    "        else:\n",
    "            print(f\"Incorrect. The correct answer is {correct}.\\n\")\n",
    "\n",
    "\n",
    "quiz()\n"
   ]
  },
  {
   "cell_type": "code",
   "execution_count": 37,
   "id": "97ffaa96-75bf-4587-9cce-9ae77fdee14e",
   "metadata": {},
   "outputs": [
    {
     "data": {
      "text/plain": [
       "'\\nimport math\\nimport sys\\nimport random\\n\\nclass Fraction:\\n    def __init__(self, numerator, denominator):\\n        self.numerator = numerator\\n        self.denominator = denominator\\n        if self.denominator == 0:\\n            print(\"The denominator cannot be zero\")\\n            sys.exit()\\n\\n    def reduce(self):\\n        a = math.gcd(self.numerator, self.denominator)\\n        self.numerator = self.numerator // a\\n        self.denominator = self.denominator // a\\n        return f\"This is your simplified fraction after being reduced: {self.numerator} / {self.denominator}\"\\n\\n    def equals(self, other):\\n        if self.numerator == other.numerator and self.denominator == other.denominator:\\n            return True\\n        else:\\n            return False\\n\\n    def __str__(self, other):\\n        print(f\"Your fraction one is {self.numerator} / {self.denominator}\")\\n        print(f\"Your fraction two is {other.numerator} / {other.denominator}\")\\n\\n#Add, subtract, multiply, divide two fractions\\n#Accepts a 2nd fraction object as a parameter and then performs the required math operation with the calling fraction\\n#Return a new fraction object representing the result of the math operation\\n\\n    def Add(self, other):  #a/b + c+d = (a*d + c*d)/(b*d)\\n        new_num = (self.numerator * other.denominator) + (other.numerator * self.denominator)\\n        new_denon = (self.denominator * other.denominator)\\n        print(f\"The addition between the first fraction and second fraction is {new_num} / {new_denon}\")\\n        \\n    def Multiply(self, other):\\n        new_num = (self.numerator * other.numerator)\\n        new_denon = (self.denominator * other.denominator)\\n        print(f\"The multiplication between the first fraction and second fraction is {new_num} / {new_denon}\")\\n    \\n    def Division(self, other):   #a/b / c/d = a*d / b*d\\n        new_num = (self.numerator * other.denominator)\\n        new_denon = (self.denominator * other.numerator)\\n        print(f\"The division between the first fraction and second fraction is {new_num} / {new_denon}\")\\n        \\n    def Substract(self, other):\\n        new_num = (self.numerator * other.denominator) - (other.numerator * self.denominator)\\n        new_denon = (self.denominator * other.denominator)\\n        print(f\"The substraction between the first fraction and the second fraction is {new_num} / {new_denon}\")\\n\\n            \\na = int(input(\"Please type the numerator for the first fraction: \"))\\nb = int(input(\"Please type the denominator for the first fraction: \"))\\nc = int(input(\"Please type the numerator for the second fraction: \"))\\nd = int(input(\"Please type the denominator for the second fraction: \"))\\n\\n\\ndef quiz():\\n    operations = [\"+\", \"-\", \"*\", \"/\"]\\n    print(\"Welcome to the Fraction Quiz! Enter \\'q\\' to quit.\\n\")\\n\\n    while True:\\n        op = random.choice(operations)\\n        f1 = Fraction(random.randint(1, 10), random.randint(1, 10))\\n        f2 = Fraction(random.randint(1, 10), random.randint(1, 10))\\n\\n        if op == \"+\":\\n            correct = Fraction.Add(frac1, frac2)\\n        elif op == \"-\":\\n            correct = Fraction.Substract(frac1, frac2)\\n        elif op == \"*\":\\n            correct = Fraction.Multiply(frac1, frac2)\\n        else:\\n            correct = Fraction.Division(frac1, frac2)\\n\\n        print(f\"What is {frac1} {op} {frac2}\")\\n        user_input = input(\"Your answer (n/d): \")\\n        if user_input.lower() == \\'q\\':\\n            print(\"Thanks for playing!\")\\n            break\\n\\n        user_fraction = parse_fraction(user_input)\\n        if user_fraction is None:\\n            print(\"Invalid input format. Please enter in the form n/d.\")\\n            continue\\n\\n        if user_fraction.equals(correct):\\n            print(\"Correct!\\n\")\\n        else:\\n            print(f\"Incorrect. The correct answer is {correct}.\\n\")\\n\\nfrac1 = Fraction(a, b)\\nfrac2 = Fraction(c, d)\\nprint(Fraction.reduce(frac1))\\nprint(Fraction.reduce(frac2))\\nFraction.equals(frac1, frac2)\\nFraction.__str__(frac1, frac2)\\nFraction.Add(frac1, frac2)\\nFraction.Multiply(frac1, frac2)\\nFraction.Division(frac1, frac2)\\nFraction.Substract(frac1, frac2)\\nquiz()\\n'"
      ]
     },
     "execution_count": 37,
     "metadata": {},
     "output_type": "execute_result"
    }
   ],
   "source": [
    "\"\"\"\n",
    "import math\n",
    "import sys\n",
    "import random\n",
    "\n",
    "class Fraction:\n",
    "    def __init__(self, numerator, denominator):\n",
    "        self.numerator = numerator\n",
    "        self.denominator = denominator\n",
    "        if self.denominator == 0:\n",
    "            print(\"The denominator cannot be zero\")\n",
    "            sys.exit()\n",
    "\n",
    "    def reduce(self):\n",
    "        a = math.gcd(self.numerator, self.denominator)\n",
    "        self.numerator = self.numerator // a\n",
    "        self.denominator = self.denominator // a\n",
    "        return f\"This is your simplified fraction after being reduced: {self.numerator} / {self.denominator}\"\n",
    "\n",
    "    def equals(self, other):\n",
    "        if self.numerator == other.numerator and self.denominator == other.denominator:\n",
    "            return True\n",
    "        else:\n",
    "            return False\n",
    "\n",
    "    def __str__(self, other):\n",
    "        print(f\"Your fraction one is {self.numerator} / {self.denominator}\")\n",
    "        print(f\"Your fraction two is {other.numerator} / {other.denominator}\")\n",
    "\n",
    "#Add, subtract, multiply, divide two fractions\n",
    "#Accepts a 2nd fraction object as a parameter and then performs the required math operation with the calling fraction\n",
    "#Return a new fraction object representing the result of the math operation\n",
    "\n",
    "    def Add(self, other):  #a/b + c+d = (a*d + c*d)/(b*d)\n",
    "        new_num = (self.numerator * other.denominator) + (other.numerator * self.denominator)\n",
    "        new_denon = (self.denominator * other.denominator)\n",
    "        print(f\"The addition between the first fraction and second fraction is {new_num} / {new_denon}\")\n",
    "        \n",
    "    def Multiply(self, other):\n",
    "        new_num = (self.numerator * other.numerator)\n",
    "        new_denon = (self.denominator * other.denominator)\n",
    "        print(f\"The multiplication between the first fraction and second fraction is {new_num} / {new_denon}\")\n",
    "    \n",
    "    def Division(self, other):   #a/b / c/d = a*d / b*d\n",
    "        new_num = (self.numerator * other.denominator)\n",
    "        new_denon = (self.denominator * other.numerator)\n",
    "        print(f\"The division between the first fraction and second fraction is {new_num} / {new_denon}\")\n",
    "        \n",
    "    def Substract(self, other):\n",
    "        new_num = (self.numerator * other.denominator) - (other.numerator * self.denominator)\n",
    "        new_denon = (self.denominator * other.denominator)\n",
    "        print(f\"The substraction between the first fraction and the second fraction is {new_num} / {new_denon}\")\n",
    "\n",
    "            \n",
    "a = int(input(\"Please type the numerator for the first fraction: \"))\n",
    "b = int(input(\"Please type the denominator for the first fraction: \"))\n",
    "c = int(input(\"Please type the numerator for the second fraction: \"))\n",
    "d = int(input(\"Please type the denominator for the second fraction: \"))\n",
    "\n",
    "\n",
    "def quiz():\n",
    "    operations = [\"+\", \"-\", \"*\", \"/\"]\n",
    "    print(\"Welcome to the Fraction Quiz! Enter 'q' to quit.\\n\")\n",
    "\n",
    "    while True:\n",
    "        op = random.choice(operations)\n",
    "        f1 = Fraction(random.randint(1, 10), random.randint(1, 10))\n",
    "        f2 = Fraction(random.randint(1, 10), random.randint(1, 10))\n",
    "\n",
    "        if op == \"+\":\n",
    "            correct = Fraction.Add(frac1, frac2)\n",
    "        elif op == \"-\":\n",
    "            correct = Fraction.Substract(frac1, frac2)\n",
    "        elif op == \"*\":\n",
    "            correct = Fraction.Multiply(frac1, frac2)\n",
    "        else:\n",
    "            correct = Fraction.Division(frac1, frac2)\n",
    "\n",
    "        print(f\"What is {frac1} {op} {frac2}\")\n",
    "        user_input = input(\"Your answer (n/d): \")\n",
    "        if user_input.lower() == 'q':\n",
    "            print(\"Thanks for playing!\")\n",
    "            break\n",
    "\n",
    "        user_fraction = parse_fraction(user_input)\n",
    "        if user_fraction is None:\n",
    "            print(\"Invalid input format. Please enter in the form n/d.\")\n",
    "            continue\n",
    "\n",
    "        if user_fraction.equals(correct):\n",
    "            print(\"Correct!\\n\")\n",
    "        else:\n",
    "            print(f\"Incorrect. The correct answer is {correct}.\\n\")\n",
    "\n",
    "frac1 = Fraction(a, b)\n",
    "frac2 = Fraction(c, d)\n",
    "print(Fraction.reduce(frac1))\n",
    "print(Fraction.reduce(frac2))\n",
    "Fraction.equals(frac1, frac2)\n",
    "Fraction.__str__(frac1, frac2)\n",
    "Fraction.Add(frac1, frac2)\n",
    "Fraction.Multiply(frac1, frac2)\n",
    "Fraction.Division(frac1, frac2)\n",
    "Fraction.Substract(frac1, frac2)\n",
    "quiz()\n",
    "\"\"\""
   ]
  },
  {
   "cell_type": "code",
   "execution_count": null,
   "id": "079260d2-605f-4f79-b936-46cf3cc6b675",
   "metadata": {},
   "outputs": [],
   "source": []
  }
 ],
 "metadata": {
  "kernelspec": {
   "display_name": "Python 3 (ipykernel)",
   "language": "python",
   "name": "python3"
  },
  "language_info": {
   "codemirror_mode": {
    "name": "ipython",
    "version": 3
   },
   "file_extension": ".py",
   "mimetype": "text/x-python",
   "name": "python",
   "nbconvert_exporter": "python",
   "pygments_lexer": "ipython3",
   "version": "3.12.4"
  }
 },
 "nbformat": 4,
 "nbformat_minor": 5
}
