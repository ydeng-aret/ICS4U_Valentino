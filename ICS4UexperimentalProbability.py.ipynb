{
 "cells": [
  {
   "cell_type": "code",
   "execution_count": 275,
   "id": "df0fca49-c259-4f45-a427-ba61745e81ce",
   "metadata": {},
   "outputs": [
    {
     "name": "stdout",
     "output_type": "stream",
     "text": [
      "The probability for winning in 549 plays is 14.39%\n"
     ]
    }
   ],
   "source": [
    "import random\n",
    "# 0 = heads ; 1 = tails\n",
    "def prob(n):\n",
    "    heads_or_tails = random.randint(0,1)\n",
    "    if heads_or_tails == 0:\n",
    "            win_counter = 0\n",
    "            for i in range(n):\n",
    "                d1 = random.randint(1,6)\n",
    "                d2 = random.randint(1,6)\n",
    "                d3 = random.randint(1,6)\n",
    "                if d1 % 2 == 0:\n",
    "                    if d2 % 2 != 0:\n",
    "                        if d3 == 2:\n",
    "                            win_counter = win_counter + 1\n",
    "                        elif d3 == 3:\n",
    "                            win_counter = win_counter + 1\n",
    "                        elif d3 == 4:\n",
    "                            win_counter = win_counter + 1\n",
    "\n",
    "    win_probability = round((win_counter / n) * 100, 2)\n",
    "    print(f\"The probability for winning in {n} plays is {win_probability}%\")\n",
    "\n",
    "x = random.randint(100,1000)\n",
    "prob(x)"
   ]
  }
 ],
 "metadata": {
  "kernelspec": {
   "display_name": "Python 3 (ipykernel)",
   "language": "python",
   "name": "python3"
  },
  "language_info": {
   "codemirror_mode": {
    "name": "ipython",
    "version": 3
   },
   "file_extension": ".py",
   "mimetype": "text/x-python",
   "name": "python",
   "nbconvert_exporter": "python",
   "pygments_lexer": "ipython3",
   "version": "3.12.4"
  }
 },
 "nbformat": 4,
 "nbformat_minor": 5
}
