{
 "cells": [
  {
   "cell_type": "code",
   "execution_count": 5,
   "id": "7c2f64f0-446f-4e4b-93a0-7cca197a6402",
   "metadata": {},
   "outputs": [
    {
     "name": "stdout",
     "output_type": "stream",
     "text": [
      "Welcome to Minesweeper! Reveal cells by entering row and column numbers.\n",
      "_ _ _ _ _ \n",
      "_ _ _ _ _ \n",
      "_ _ _ _ _ \n",
      "_ _ _ _ _ \n",
      "_ _ _ _ _ \n",
      "\n"
     ]
    },
    {
     "name": "stdin",
     "output_type": "stream",
     "text": [
      "Enter row (0 to 4):  0\n",
      "Enter column (0 to 4):  5\n"
     ]
    },
    {
     "name": "stdout",
     "output_type": "stream",
     "text": [
      "Out of bounds! Try again.\n",
      "_ _ _ _ _ \n",
      "_ _ _ _ _ \n",
      "_ _ _ _ _ \n",
      "_ _ _ _ _ \n",
      "_ _ _ _ _ \n",
      "\n"
     ]
    },
    {
     "name": "stdin",
     "output_type": "stream",
     "text": [
      "Enter row (0 to 4):  4\n",
      "Enter column (0 to 4):  4\n"
     ]
    },
    {
     "name": "stdout",
     "output_type": "stream",
     "text": [
      "_ _ _ _ _ \n",
      "_ _ _ _ _ \n",
      "_ _ _ _ _ \n",
      "_ _ _ _ _ \n",
      "_ _ _ _   \n",
      "\n"
     ]
    },
    {
     "name": "stdin",
     "output_type": "stream",
     "text": [
      "Enter row (0 to 4):  0\n",
      "Enter column (0 to 4):  0\n"
     ]
    },
    {
     "name": "stdout",
     "output_type": "stream",
     "text": [
      "1 _ _ _ _ \n",
      "_ _ _ _ _ \n",
      "_ _ _ _ _ \n",
      "_ _ _ _ _ \n",
      "_ _ _ _   \n",
      "\n"
     ]
    },
    {
     "name": "stdin",
     "output_type": "stream",
     "text": [
      "Enter row (0 to 4):  3\n",
      "Enter column (0 to 4):  2\n"
     ]
    },
    {
     "name": "stdout",
     "output_type": "stream",
     "text": [
      "1 _ _ _ _ \n",
      "_ _ _ _ _ \n",
      "_ _ _ _ _ \n",
      "_ _ 2 _ _ \n",
      "_ _ _ _   \n",
      "\n"
     ]
    },
    {
     "name": "stdin",
     "output_type": "stream",
     "text": [
      "Enter row (0 to 4):  1\n",
      "Enter column (0 to 4):  1\n"
     ]
    },
    {
     "name": "stdout",
     "output_type": "stream",
     "text": [
      "1 _ _ _ _ \n",
      "_ 2 _ _ _ \n",
      "_ _ _ _ _ \n",
      "_ _ 2 _ _ \n",
      "_ _ _ _   \n",
      "\n"
     ]
    },
    {
     "name": "stdin",
     "output_type": "stream",
     "text": [
      "Enter row (0 to 4):  4\n",
      "Enter column (0 to 4):  3\n"
     ]
    },
    {
     "name": "stdout",
     "output_type": "stream",
     "text": [
      "1 _ _ _ _ \n",
      "_ 2 _ _ _ \n",
      "_ _ _ _ _ \n",
      "_ _ 2 _ _ \n",
      "_ _ _ 1   \n",
      "\n"
     ]
    },
    {
     "name": "stdin",
     "output_type": "stream",
     "text": [
      "Enter row (0 to 4):  2\n",
      "Enter column (0 to 4):  4\n"
     ]
    },
    {
     "name": "stdout",
     "output_type": "stream",
     "text": [
      "💥 BOOM! You hit a mine. Game Over!\n",
      ". . . . . \n",
      "* . . . . \n",
      "* . . * * \n",
      ". . . . . \n",
      ". . * . . \n",
      "\n"
     ]
    }
   ],
   "source": [
    "import random\n",
    "\n",
    "# Function to generate a random minefield\n",
    "def generate_minefield(rows, cols, num_mines):\n",
    "    grid = [[\".\" for _ in range(cols)] for _ in range(rows)]\n",
    "\n",
    "    # Randomly place mines\n",
    "    mines_placed = 0\n",
    "    while mines_placed < num_mines:\n",
    "        r, c = random.randint(0, rows - 1), random.randint(0, cols - 1)\n",
    "        if grid[r][c] != \"*\":\n",
    "            grid[r][c] = \"*\"\n",
    "            mines_placed += 1\n",
    "\n",
    "    return grid\n",
    "\n",
    "# Function to count adjacent mines\n",
    "def count_adjacent_mines(grid, row, col):\n",
    "    rows, cols = len(grid), len(grid[0])\n",
    "    mine_count = 0\n",
    "    directions = [(-1, -1), (-1, 0), (-1, 1),\n",
    "                  (0, -1),         (0, 1),\n",
    "                  (1, -1), (1, 0), (1, 1)]\n",
    "\n",
    "    for dr, dc in directions:\n",
    "        r, c = row + dr, col + dc\n",
    "        if 0 <= r < rows and 0 <= c < cols and grid[r][c] == \"*\":\n",
    "            mine_count += 1\n",
    "\n",
    "    return str(mine_count) if mine_count > 0 else \" \"\n",
    "\n",
    "# Function to generate the hint board\n",
    "def generate_hints(grid):\n",
    "    rows, cols = len(grid), len(grid[0])\n",
    "    hint_grid = [[grid[r][c] if grid[r][c] == \"*\" else count_adjacent_mines(grid, r, c)\n",
    "                  for c in range(cols)] for r in range(rows)]\n",
    "    return hint_grid\n",
    "\n",
    "# Function to display the board\n",
    "def print_board(board, revealed):\n",
    "    for r in range(len(board)):\n",
    "        for c in range(len(board[0])):\n",
    "            if revealed[r][c]:\n",
    "                print(board[r][c], end=\" \")\n",
    "            else:\n",
    "                print(\"_\", end=\" \")\n",
    "        print()\n",
    "    print()\n",
    "\n",
    "# Game Loop\n",
    "def play_game(rows=5, cols=5, num_mines=5):\n",
    "    minefield = generate_minefield(rows, cols, num_mines)\n",
    "    hint_board = generate_hints(minefield)\n",
    "    revealed = [[False for _ in range(cols)] for _ in range(rows)]\n",
    "\n",
    "    print(\"Welcome to Minesweeper! Reveal cells by entering row and column numbers.\")\n",
    "\n",
    "    while True:\n",
    "        print_board(hint_board, revealed)\n",
    "        \n",
    "        try:\n",
    "            row = int(input(\"Enter row (0 to {}): \".format(rows - 1)))\n",
    "            col = int(input(\"Enter column (0 to {}): \".format(cols - 1)))\n",
    "        except ValueError:\n",
    "            print(\"Invalid input. Please enter numbers.\")\n",
    "            continue\n",
    "\n",
    "        if not (0 <= row < rows and 0 <= col < cols):\n",
    "            print(\"Out of bounds! Try again.\")\n",
    "            continue\n",
    "\n",
    "        if minefield[row][col] == \"*\":\n",
    "            print(\"BOOM! You hit a mine. Game Over!\")\n",
    "            print_board(minefield, [[True] * cols for _ in range(rows)])\n",
    "            break\n",
    "        else:\n",
    "            revealed[row][col] = True\n",
    "            # Check if player has won\n",
    "            if all(revealed[r][c] or minefield[r][c] == \"*\" for r in range(rows) for c in range(cols)):\n",
    "                print(\"Congratulations! You cleared the board!\")\n",
    "                break\n",
    "\n",
    "play_game()\n"
   ]
  },
  {
   "cell_type": "code",
   "execution_count": null,
   "id": "7933ee47-3e1a-45bb-8c28-a806eb5eec14",
   "metadata": {},
   "outputs": [],
   "source": []
  }
 ],
 "metadata": {
  "kernelspec": {
   "display_name": "Python 3 (ipykernel)",
   "language": "python",
   "name": "python3"
  },
  "language_info": {
   "codemirror_mode": {
    "name": "ipython",
    "version": 3
   },
   "file_extension": ".py",
   "mimetype": "text/x-python",
   "name": "python",
   "nbconvert_exporter": "python",
   "pygments_lexer": "ipython3",
   "version": "3.12.4"
  }
 },
 "nbformat": 4,
 "nbformat_minor": 5
}
